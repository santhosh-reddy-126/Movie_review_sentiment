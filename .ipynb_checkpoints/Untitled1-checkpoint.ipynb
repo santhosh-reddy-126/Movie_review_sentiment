{
 "cells": [
  {
   "cell_type": "code",
   "execution_count": 3,
   "id": "e09003a1-6f4c-4d8f-b2e4-a87f3d5442a0",
   "metadata": {},
   "outputs": [],
   "source": [
    "import numpy as np\n",
    "import pandas as pd\n",
    "import matplotlib.pyplot as plt"
   ]
  },
  {
   "cell_type": "code",
   "execution_count": 9,
   "id": "96dd2155-58fc-4efc-a16e-2dedaca52446",
   "metadata": {},
   "outputs": [],
   "source": [
    "dataset = pd.read_csv('movie.csv')"
   ]
  },
  {
   "cell_type": "code",
   "execution_count": 13,
   "id": "a375394b-0c9c-462d-beb1-4622046cba79",
   "metadata": {},
   "outputs": [
    {
     "name": "stderr",
     "output_type": "stream",
     "text": [
      "[nltk_data] Downloading package stopwords to\n",
      "[nltk_data]     C:\\Users\\santh\\AppData\\Roaming\\nltk_data...\n",
      "[nltk_data]   Package stopwords is already up-to-date!\n"
     ]
    }
   ],
   "source": [
    "import re\n",
    "import nltk\n",
    "from nltk.corpus import stopwords\n",
    "from nltk.stem.porter import PorterStemmer\n",
    "all_stopwords = stopwords.words('english')\n",
    "important_stopwords = [\n",
    "    'not', 'no', 'never', 'neither', 'none', 'nobody', 'nowhere', 'nothing', 'nor',\n",
    "    'very', 'really', 'extremely', 'absolutely', 'quite', 'barely', 'hardly', 'scarcely',\n",
    "    'but', 'however', 'although', 'though', 'yet', 'despite'\n",
    "]\n",
    "for i in important_stopwords:\n",
    "    if i in all_stopwords:\n",
    "        all_stopwords.remove(i)\n",
    "corpus = []\n",
    "for i in range(0, 40000):\n",
    "  review = re.sub('[^a-zA-Z]', ' ', dataset.iloc[i,0])\n",
    "  review = review.lower()\n",
    "  review = review.split()\n",
    "  ps = PorterStemmer()\n",
    "  review = [ps.stem(word) for word in review if not word in set(all_stopwords)]\n",
    "  review = ' '.join(review)\n",
    "  corpus.append(review)"
   ]
  },
  {
   "cell_type": "code",
   "execution_count": 15,
   "id": "2fe258f0-0bf6-4b7f-afff-9a05beccbd83",
   "metadata": {},
   "outputs": [
    {
     "data": {
      "text/plain": [
       "'grew b watch love thunderbird mate school watch play thunderbird school lunch school want virgil scott no one want alan count becam art form took children see movi hope would get glimps love child bitterli disappoint high point snappi theme tune not could compar origin score thunderbird thank earli saturday morn one televis channel still play rerun seri gerri anderson wife creat jonatha frake hand director chair version complet hopeless wast film utter rubbish cgi remak may accept but replac marionett homo sapien subsp sapien huge error judgment'"
      ]
     },
     "execution_count": 15,
     "metadata": {},
     "output_type": "execute_result"
    }
   ],
   "source": [
    "corpus[0]"
   ]
  },
  {
   "cell_type": "code",
   "execution_count": 25,
   "id": "4905f39d-378c-4317-bfb6-94d338ad703b",
   "metadata": {},
   "outputs": [],
   "source": [
    "with open(\"reviews2.txt\", \"w\", encoding=\"utf-8\") as f:\n",
    "    for line in corpus:\n",
    "        f.write(line + \"\\n\")"
   ]
  },
  {
   "cell_type": "code",
   "execution_count": null,
   "id": "b7ae626e-ec5b-4e62-acc8-e38c3b231d72",
   "metadata": {},
   "outputs": [],
   "source": []
  }
 ],
 "metadata": {
  "kernelspec": {
   "display_name": "Python 3 (ipykernel)",
   "language": "python",
   "name": "python3"
  },
  "language_info": {
   "codemirror_mode": {
    "name": "ipython",
    "version": 3
   },
   "file_extension": ".py",
   "mimetype": "text/x-python",
   "name": "python",
   "nbconvert_exporter": "python",
   "pygments_lexer": "ipython3",
   "version": "3.11.7"
  }
 },
 "nbformat": 4,
 "nbformat_minor": 5
}
